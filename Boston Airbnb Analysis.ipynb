{
 "cells": [
  {
   "cell_type": "code",
   "execution_count": 1,
   "metadata": {},
   "outputs": [],
   "source": [
    "import pandas as pd \n",
    "import seaborn as sns \n",
    "import matplotlib.pyplot as plt\n",
    "import numpy as np \n",
    "from sklearn.preprocessing import LabelEncoder\n",
    "from datetime import datetime\n",
    "from sklearn.model_selection import train_test_split\n",
    "from sklearn.metrics import r2_score, mean_squared_error\n",
    "from sklearn.linear_model import LinearRegression\n",
    "\n",
    "pd.set_option('display.max_columns', None)\n",
    "%matplotlib inline"
   ]
  },
  {
   "cell_type": "code",
   "execution_count": 2,
   "metadata": {
    "scrolled": true
   },
   "outputs": [
    {
     "data": {
      "text/html": [
       "<div>\n",
       "<style scoped>\n",
       "    .dataframe tbody tr th:only-of-type {\n",
       "        vertical-align: middle;\n",
       "    }\n",
       "\n",
       "    .dataframe tbody tr th {\n",
       "        vertical-align: top;\n",
       "    }\n",
       "\n",
       "    .dataframe thead th {\n",
       "        text-align: right;\n",
       "    }\n",
       "</style>\n",
       "<table border=\"1\" class=\"dataframe\">\n",
       "  <thead>\n",
       "    <tr style=\"text-align: right;\">\n",
       "      <th></th>\n",
       "      <th>listing_id</th>\n",
       "      <th>date</th>\n",
       "      <th>available</th>\n",
       "      <th>price</th>\n",
       "    </tr>\n",
       "  </thead>\n",
       "  <tbody>\n",
       "    <tr>\n",
       "      <th>0</th>\n",
       "      <td>241032</td>\n",
       "      <td>2016-01-04</td>\n",
       "      <td>t</td>\n",
       "      <td>$85.00</td>\n",
       "    </tr>\n",
       "    <tr>\n",
       "      <th>1</th>\n",
       "      <td>241032</td>\n",
       "      <td>2016-01-05</td>\n",
       "      <td>t</td>\n",
       "      <td>$85.00</td>\n",
       "    </tr>\n",
       "    <tr>\n",
       "      <th>2</th>\n",
       "      <td>241032</td>\n",
       "      <td>2016-01-06</td>\n",
       "      <td>f</td>\n",
       "      <td>NaN</td>\n",
       "    </tr>\n",
       "    <tr>\n",
       "      <th>3</th>\n",
       "      <td>241032</td>\n",
       "      <td>2016-01-07</td>\n",
       "      <td>f</td>\n",
       "      <td>NaN</td>\n",
       "    </tr>\n",
       "    <tr>\n",
       "      <th>4</th>\n",
       "      <td>241032</td>\n",
       "      <td>2016-01-08</td>\n",
       "      <td>f</td>\n",
       "      <td>NaN</td>\n",
       "    </tr>\n",
       "  </tbody>\n",
       "</table>\n",
       "</div>"
      ],
      "text/plain": [
       "   listing_id        date available   price\n",
       "0      241032  2016-01-04         t  $85.00\n",
       "1      241032  2016-01-05         t  $85.00\n",
       "2      241032  2016-01-06         f     NaN\n",
       "3      241032  2016-01-07         f     NaN\n",
       "4      241032  2016-01-08         f     NaN"
      ]
     },
     "execution_count": 2,
     "metadata": {},
     "output_type": "execute_result"
    }
   ],
   "source": [
    "# Read in dataframes from csv file that will be used for the analysis \n",
    "df_cal = pd.read_csv('data/calendar.csv')\n",
    "df_reviews = pd.read_csv('data/reviews.csv')\n",
    "df_li = pd.read_csv('data/listings.csv')\n",
    "\n",
    "df_cal.head()"
   ]
  },
  {
   "cell_type": "code",
   "execution_count": 3,
   "metadata": {},
   "outputs": [
    {
     "data": {
      "text/plain": [
       "listing_id     int64\n",
       "date          object\n",
       "available     object\n",
       "price         object\n",
       "dtype: object"
      ]
     },
     "execution_count": 3,
     "metadata": {},
     "output_type": "execute_result"
    }
   ],
   "source": [
    "df_cal.dtypes"
   ]
  },
  {
   "cell_type": "code",
   "execution_count": 4,
   "metadata": {
    "scrolled": true
   },
   "outputs": [
    {
     "data": {
      "text/html": [
       "<div>\n",
       "<style scoped>\n",
       "    .dataframe tbody tr th:only-of-type {\n",
       "        vertical-align: middle;\n",
       "    }\n",
       "\n",
       "    .dataframe tbody tr th {\n",
       "        vertical-align: top;\n",
       "    }\n",
       "\n",
       "    .dataframe thead th {\n",
       "        text-align: right;\n",
       "    }\n",
       "</style>\n",
       "<table border=\"1\" class=\"dataframe\">\n",
       "  <thead>\n",
       "    <tr style=\"text-align: right;\">\n",
       "      <th></th>\n",
       "      <th>listing_id</th>\n",
       "      <th>id</th>\n",
       "      <th>date</th>\n",
       "      <th>reviewer_id</th>\n",
       "      <th>reviewer_name</th>\n",
       "      <th>comments</th>\n",
       "    </tr>\n",
       "  </thead>\n",
       "  <tbody>\n",
       "    <tr>\n",
       "      <th>0</th>\n",
       "      <td>7202016</td>\n",
       "      <td>38917982</td>\n",
       "      <td>2015-07-19</td>\n",
       "      <td>28943674</td>\n",
       "      <td>Bianca</td>\n",
       "      <td>Cute and cozy place. Perfect location to every...</td>\n",
       "    </tr>\n",
       "    <tr>\n",
       "      <th>1</th>\n",
       "      <td>7202016</td>\n",
       "      <td>39087409</td>\n",
       "      <td>2015-07-20</td>\n",
       "      <td>32440555</td>\n",
       "      <td>Frank</td>\n",
       "      <td>Kelly has a great room in a very central locat...</td>\n",
       "    </tr>\n",
       "    <tr>\n",
       "      <th>2</th>\n",
       "      <td>7202016</td>\n",
       "      <td>39820030</td>\n",
       "      <td>2015-07-26</td>\n",
       "      <td>37722850</td>\n",
       "      <td>Ian</td>\n",
       "      <td>Very spacious apartment, and in a great neighb...</td>\n",
       "    </tr>\n",
       "    <tr>\n",
       "      <th>3</th>\n",
       "      <td>7202016</td>\n",
       "      <td>40813543</td>\n",
       "      <td>2015-08-02</td>\n",
       "      <td>33671805</td>\n",
       "      <td>George</td>\n",
       "      <td>Close to Seattle Center and all it has to offe...</td>\n",
       "    </tr>\n",
       "    <tr>\n",
       "      <th>4</th>\n",
       "      <td>7202016</td>\n",
       "      <td>41986501</td>\n",
       "      <td>2015-08-10</td>\n",
       "      <td>34959538</td>\n",
       "      <td>Ming</td>\n",
       "      <td>Kelly was a great host and very accommodating ...</td>\n",
       "    </tr>\n",
       "    <tr>\n",
       "      <th>5</th>\n",
       "      <td>7202016</td>\n",
       "      <td>43979139</td>\n",
       "      <td>2015-08-23</td>\n",
       "      <td>1154501</td>\n",
       "      <td>Barent</td>\n",
       "      <td>Kelly was great, place was great, just what I ...</td>\n",
       "    </tr>\n",
       "    <tr>\n",
       "      <th>6</th>\n",
       "      <td>7202016</td>\n",
       "      <td>45265631</td>\n",
       "      <td>2015-09-01</td>\n",
       "      <td>37853266</td>\n",
       "      <td>Kevin</td>\n",
       "      <td>Kelly was great! Very nice and the neighborhoo...</td>\n",
       "    </tr>\n",
       "    <tr>\n",
       "      <th>7</th>\n",
       "      <td>7202016</td>\n",
       "      <td>46749120</td>\n",
       "      <td>2015-09-13</td>\n",
       "      <td>24445447</td>\n",
       "      <td>Rick</td>\n",
       "      <td>hola all bnb erz - Just left Seattle where I h...</td>\n",
       "    </tr>\n",
       "    <tr>\n",
       "      <th>8</th>\n",
       "      <td>7202016</td>\n",
       "      <td>47783346</td>\n",
       "      <td>2015-09-21</td>\n",
       "      <td>249583</td>\n",
       "      <td>Todd</td>\n",
       "      <td>Kelly's place is conveniently located on a qui...</td>\n",
       "    </tr>\n",
       "    <tr>\n",
       "      <th>9</th>\n",
       "      <td>7202016</td>\n",
       "      <td>48388999</td>\n",
       "      <td>2015-09-26</td>\n",
       "      <td>38110731</td>\n",
       "      <td>Tatiana</td>\n",
       "      <td>The place was really nice, clean, and the most...</td>\n",
       "    </tr>\n",
       "    <tr>\n",
       "      <th>10</th>\n",
       "      <td>7202016</td>\n",
       "      <td>49441269</td>\n",
       "      <td>2015-10-04</td>\n",
       "      <td>39852826</td>\n",
       "      <td>Tim</td>\n",
       "      <td>The place was really nice, clean and quiet at ...</td>\n",
       "    </tr>\n",
       "    <tr>\n",
       "      <th>11</th>\n",
       "      <td>7202016</td>\n",
       "      <td>50490194</td>\n",
       "      <td>2015-10-12</td>\n",
       "      <td>384855</td>\n",
       "      <td>Tony</td>\n",
       "      <td>The listing was exactly as described!  Kelly's...</td>\n",
       "    </tr>\n",
       "    <tr>\n",
       "      <th>12</th>\n",
       "      <td>7202016</td>\n",
       "      <td>53862449</td>\n",
       "      <td>2015-11-13</td>\n",
       "      <td>21607838</td>\n",
       "      <td>Jason</td>\n",
       "      <td>Very welcoming and a nicer place to live in th...</td>\n",
       "    </tr>\n",
       "    <tr>\n",
       "      <th>13</th>\n",
       "      <td>7202016</td>\n",
       "      <td>54562283</td>\n",
       "      <td>2015-11-21</td>\n",
       "      <td>17052263</td>\n",
       "      <td>Don</td>\n",
       "      <td>Great location, great price, great host! Thank...</td>\n",
       "    </tr>\n",
       "    <tr>\n",
       "      <th>14</th>\n",
       "      <td>7202016</td>\n",
       "      <td>55212826</td>\n",
       "      <td>2015-11-29</td>\n",
       "      <td>4774006</td>\n",
       "      <td>Vivian</td>\n",
       "      <td>Staying at Kelly's was easy. The location was ...</td>\n",
       "    </tr>\n",
       "    <tr>\n",
       "      <th>15</th>\n",
       "      <td>7202016</td>\n",
       "      <td>58268184</td>\n",
       "      <td>2016-01-02</td>\n",
       "      <td>41297839</td>\n",
       "      <td>Travis</td>\n",
       "      <td>Kelly was an amazing host who made the stay ve...</td>\n",
       "    </tr>\n",
       "  </tbody>\n",
       "</table>\n",
       "</div>"
      ],
      "text/plain": [
       "    listing_id        id        date  reviewer_id reviewer_name  \\\n",
       "0      7202016  38917982  2015-07-19     28943674        Bianca   \n",
       "1      7202016  39087409  2015-07-20     32440555         Frank   \n",
       "2      7202016  39820030  2015-07-26     37722850           Ian   \n",
       "3      7202016  40813543  2015-08-02     33671805        George   \n",
       "4      7202016  41986501  2015-08-10     34959538          Ming   \n",
       "5      7202016  43979139  2015-08-23      1154501        Barent   \n",
       "6      7202016  45265631  2015-09-01     37853266         Kevin   \n",
       "7      7202016  46749120  2015-09-13     24445447          Rick   \n",
       "8      7202016  47783346  2015-09-21       249583          Todd   \n",
       "9      7202016  48388999  2015-09-26     38110731       Tatiana   \n",
       "10     7202016  49441269  2015-10-04     39852826           Tim   \n",
       "11     7202016  50490194  2015-10-12       384855          Tony   \n",
       "12     7202016  53862449  2015-11-13     21607838         Jason   \n",
       "13     7202016  54562283  2015-11-21     17052263           Don   \n",
       "14     7202016  55212826  2015-11-29      4774006        Vivian   \n",
       "15     7202016  58268184  2016-01-02     41297839        Travis   \n",
       "\n",
       "                                             comments  \n",
       "0   Cute and cozy place. Perfect location to every...  \n",
       "1   Kelly has a great room in a very central locat...  \n",
       "2   Very spacious apartment, and in a great neighb...  \n",
       "3   Close to Seattle Center and all it has to offe...  \n",
       "4   Kelly was a great host and very accommodating ...  \n",
       "5   Kelly was great, place was great, just what I ...  \n",
       "6   Kelly was great! Very nice and the neighborhoo...  \n",
       "7   hola all bnb erz - Just left Seattle where I h...  \n",
       "8   Kelly's place is conveniently located on a qui...  \n",
       "9   The place was really nice, clean, and the most...  \n",
       "10  The place was really nice, clean and quiet at ...  \n",
       "11  The listing was exactly as described!  Kelly's...  \n",
       "12  Very welcoming and a nicer place to live in th...  \n",
       "13  Great location, great price, great host! Thank...  \n",
       "14  Staying at Kelly's was easy. The location was ...  \n",
       "15  Kelly was an amazing host who made the stay ve...  "
      ]
     },
     "execution_count": 4,
     "metadata": {},
     "output_type": "execute_result"
    }
   ],
   "source": [
    "df_reviews[df_reviews['listing_id'] == 7202016]"
   ]
  },
  {
   "cell_type": "code",
   "execution_count": 5,
   "metadata": {
    "scrolled": true
   },
   "outputs": [
    {
     "data": {
      "text/html": [
       "<div>\n",
       "<style scoped>\n",
       "    .dataframe tbody tr th:only-of-type {\n",
       "        vertical-align: middle;\n",
       "    }\n",
       "\n",
       "    .dataframe tbody tr th {\n",
       "        vertical-align: top;\n",
       "    }\n",
       "\n",
       "    .dataframe thead th {\n",
       "        text-align: right;\n",
       "    }\n",
       "</style>\n",
       "<table border=\"1\" class=\"dataframe\">\n",
       "  <thead>\n",
       "    <tr style=\"text-align: right;\">\n",
       "      <th></th>\n",
       "      <th>id</th>\n",
       "      <th>listing_url</th>\n",
       "      <th>scrape_id</th>\n",
       "      <th>last_scraped</th>\n",
       "      <th>name</th>\n",
       "      <th>summary</th>\n",
       "      <th>space</th>\n",
       "      <th>description</th>\n",
       "      <th>experiences_offered</th>\n",
       "      <th>neighborhood_overview</th>\n",
       "      <th>notes</th>\n",
       "      <th>transit</th>\n",
       "      <th>thumbnail_url</th>\n",
       "      <th>medium_url</th>\n",
       "      <th>picture_url</th>\n",
       "      <th>xl_picture_url</th>\n",
       "      <th>host_id</th>\n",
       "      <th>host_url</th>\n",
       "      <th>host_name</th>\n",
       "      <th>host_since</th>\n",
       "      <th>host_location</th>\n",
       "      <th>host_about</th>\n",
       "      <th>host_response_time</th>\n",
       "      <th>host_response_rate</th>\n",
       "      <th>host_acceptance_rate</th>\n",
       "      <th>host_is_superhost</th>\n",
       "      <th>host_thumbnail_url</th>\n",
       "      <th>host_picture_url</th>\n",
       "      <th>host_neighbourhood</th>\n",
       "      <th>host_listings_count</th>\n",
       "      <th>host_total_listings_count</th>\n",
       "      <th>host_verifications</th>\n",
       "      <th>host_has_profile_pic</th>\n",
       "      <th>host_identity_verified</th>\n",
       "      <th>street</th>\n",
       "      <th>neighbourhood</th>\n",
       "      <th>neighbourhood_cleansed</th>\n",
       "      <th>neighbourhood_group_cleansed</th>\n",
       "      <th>city</th>\n",
       "      <th>state</th>\n",
       "      <th>zipcode</th>\n",
       "      <th>market</th>\n",
       "      <th>smart_location</th>\n",
       "      <th>country_code</th>\n",
       "      <th>country</th>\n",
       "      <th>latitude</th>\n",
       "      <th>longitude</th>\n",
       "      <th>is_location_exact</th>\n",
       "      <th>property_type</th>\n",
       "      <th>room_type</th>\n",
       "      <th>accommodates</th>\n",
       "      <th>bathrooms</th>\n",
       "      <th>bedrooms</th>\n",
       "      <th>beds</th>\n",
       "      <th>bed_type</th>\n",
       "      <th>amenities</th>\n",
       "      <th>square_feet</th>\n",
       "      <th>price</th>\n",
       "      <th>weekly_price</th>\n",
       "      <th>monthly_price</th>\n",
       "      <th>security_deposit</th>\n",
       "      <th>cleaning_fee</th>\n",
       "      <th>guests_included</th>\n",
       "      <th>extra_people</th>\n",
       "      <th>minimum_nights</th>\n",
       "      <th>maximum_nights</th>\n",
       "      <th>calendar_updated</th>\n",
       "      <th>has_availability</th>\n",
       "      <th>availability_30</th>\n",
       "      <th>availability_60</th>\n",
       "      <th>availability_90</th>\n",
       "      <th>availability_365</th>\n",
       "      <th>calendar_last_scraped</th>\n",
       "      <th>number_of_reviews</th>\n",
       "      <th>first_review</th>\n",
       "      <th>last_review</th>\n",
       "      <th>review_scores_rating</th>\n",
       "      <th>review_scores_accuracy</th>\n",
       "      <th>review_scores_cleanliness</th>\n",
       "      <th>review_scores_checkin</th>\n",
       "      <th>review_scores_communication</th>\n",
       "      <th>review_scores_location</th>\n",
       "      <th>review_scores_value</th>\n",
       "      <th>requires_license</th>\n",
       "      <th>license</th>\n",
       "      <th>jurisdiction_names</th>\n",
       "      <th>instant_bookable</th>\n",
       "      <th>cancellation_policy</th>\n",
       "      <th>require_guest_profile_picture</th>\n",
       "      <th>require_guest_phone_verification</th>\n",
       "      <th>calculated_host_listings_count</th>\n",
       "      <th>reviews_per_month</th>\n",
       "    </tr>\n",
       "  </thead>\n",
       "  <tbody>\n",
       "    <tr>\n",
       "      <th>0</th>\n",
       "      <td>241032</td>\n",
       "      <td>https://www.airbnb.com/rooms/241032</td>\n",
       "      <td>20160104002432</td>\n",
       "      <td>2016-01-04</td>\n",
       "      <td>Stylish Queen Anne Apartment</td>\n",
       "      <td>NaN</td>\n",
       "      <td>Make your self at home in this charming one-be...</td>\n",
       "      <td>Make your self at home in this charming one-be...</td>\n",
       "      <td>none</td>\n",
       "      <td>NaN</td>\n",
       "      <td>NaN</td>\n",
       "      <td>NaN</td>\n",
       "      <td>NaN</td>\n",
       "      <td>NaN</td>\n",
       "      <td>https://a1.muscache.com/ac/pictures/67560560/c...</td>\n",
       "      <td>NaN</td>\n",
       "      <td>956883</td>\n",
       "      <td>https://www.airbnb.com/users/show/956883</td>\n",
       "      <td>Maija</td>\n",
       "      <td>2011-08-11</td>\n",
       "      <td>Seattle, Washington, United States</td>\n",
       "      <td>I am an artist, interior designer, and run a s...</td>\n",
       "      <td>within a few hours</td>\n",
       "      <td>96%</td>\n",
       "      <td>100%</td>\n",
       "      <td>f</td>\n",
       "      <td>https://a0.muscache.com/ac/users/956883/profil...</td>\n",
       "      <td>https://a0.muscache.com/ac/users/956883/profil...</td>\n",
       "      <td>Queen Anne</td>\n",
       "      <td>3.0</td>\n",
       "      <td>3.0</td>\n",
       "      <td>['email', 'phone', 'reviews', 'kba']</td>\n",
       "      <td>t</td>\n",
       "      <td>t</td>\n",
       "      <td>Gilman Dr W, Seattle, WA 98119, United States</td>\n",
       "      <td>Queen Anne</td>\n",
       "      <td>West Queen Anne</td>\n",
       "      <td>Queen Anne</td>\n",
       "      <td>Seattle</td>\n",
       "      <td>WA</td>\n",
       "      <td>98119</td>\n",
       "      <td>Seattle</td>\n",
       "      <td>Seattle, WA</td>\n",
       "      <td>US</td>\n",
       "      <td>United States</td>\n",
       "      <td>47.636289</td>\n",
       "      <td>-122.371025</td>\n",
       "      <td>t</td>\n",
       "      <td>Apartment</td>\n",
       "      <td>Entire home/apt</td>\n",
       "      <td>4</td>\n",
       "      <td>1.0</td>\n",
       "      <td>1.0</td>\n",
       "      <td>1.0</td>\n",
       "      <td>Real Bed</td>\n",
       "      <td>{TV,\"Cable TV\",Internet,\"Wireless Internet\",\"A...</td>\n",
       "      <td>NaN</td>\n",
       "      <td>$85.00</td>\n",
       "      <td>NaN</td>\n",
       "      <td>NaN</td>\n",
       "      <td>NaN</td>\n",
       "      <td>NaN</td>\n",
       "      <td>2</td>\n",
       "      <td>$5.00</td>\n",
       "      <td>1</td>\n",
       "      <td>365</td>\n",
       "      <td>4 weeks ago</td>\n",
       "      <td>t</td>\n",
       "      <td>14</td>\n",
       "      <td>41</td>\n",
       "      <td>71</td>\n",
       "      <td>346</td>\n",
       "      <td>2016-01-04</td>\n",
       "      <td>207</td>\n",
       "      <td>2011-11-01</td>\n",
       "      <td>2016-01-02</td>\n",
       "      <td>95.0</td>\n",
       "      <td>10.0</td>\n",
       "      <td>10.0</td>\n",
       "      <td>10.0</td>\n",
       "      <td>10.0</td>\n",
       "      <td>9.0</td>\n",
       "      <td>10.0</td>\n",
       "      <td>f</td>\n",
       "      <td>NaN</td>\n",
       "      <td>WASHINGTON</td>\n",
       "      <td>f</td>\n",
       "      <td>moderate</td>\n",
       "      <td>f</td>\n",
       "      <td>f</td>\n",
       "      <td>2</td>\n",
       "      <td>4.07</td>\n",
       "    </tr>\n",
       "  </tbody>\n",
       "</table>\n",
       "</div>"
      ],
      "text/plain": [
       "       id                          listing_url       scrape_id last_scraped  \\\n",
       "0  241032  https://www.airbnb.com/rooms/241032  20160104002432   2016-01-04   \n",
       "\n",
       "                           name summary  \\\n",
       "0  Stylish Queen Anne Apartment     NaN   \n",
       "\n",
       "                                               space  \\\n",
       "0  Make your self at home in this charming one-be...   \n",
       "\n",
       "                                         description experiences_offered  \\\n",
       "0  Make your self at home in this charming one-be...                none   \n",
       "\n",
       "  neighborhood_overview notes transit thumbnail_url medium_url  \\\n",
       "0                   NaN   NaN     NaN           NaN        NaN   \n",
       "\n",
       "                                         picture_url xl_picture_url  host_id  \\\n",
       "0  https://a1.muscache.com/ac/pictures/67560560/c...            NaN   956883   \n",
       "\n",
       "                                   host_url host_name  host_since  \\\n",
       "0  https://www.airbnb.com/users/show/956883     Maija  2011-08-11   \n",
       "\n",
       "                        host_location  \\\n",
       "0  Seattle, Washington, United States   \n",
       "\n",
       "                                          host_about  host_response_time  \\\n",
       "0  I am an artist, interior designer, and run a s...  within a few hours   \n",
       "\n",
       "  host_response_rate host_acceptance_rate host_is_superhost  \\\n",
       "0                96%                 100%                 f   \n",
       "\n",
       "                                  host_thumbnail_url  \\\n",
       "0  https://a0.muscache.com/ac/users/956883/profil...   \n",
       "\n",
       "                                    host_picture_url host_neighbourhood  \\\n",
       "0  https://a0.muscache.com/ac/users/956883/profil...         Queen Anne   \n",
       "\n",
       "   host_listings_count  host_total_listings_count  \\\n",
       "0                  3.0                        3.0   \n",
       "\n",
       "                     host_verifications host_has_profile_pic  \\\n",
       "0  ['email', 'phone', 'reviews', 'kba']                    t   \n",
       "\n",
       "  host_identity_verified                                         street  \\\n",
       "0                      t  Gilman Dr W, Seattle, WA 98119, United States   \n",
       "\n",
       "  neighbourhood neighbourhood_cleansed neighbourhood_group_cleansed     city  \\\n",
       "0    Queen Anne        West Queen Anne                   Queen Anne  Seattle   \n",
       "\n",
       "  state zipcode   market smart_location country_code        country  \\\n",
       "0    WA   98119  Seattle    Seattle, WA           US  United States   \n",
       "\n",
       "    latitude   longitude is_location_exact property_type        room_type  \\\n",
       "0  47.636289 -122.371025                 t     Apartment  Entire home/apt   \n",
       "\n",
       "   accommodates  bathrooms  bedrooms  beds  bed_type  \\\n",
       "0             4        1.0       1.0   1.0  Real Bed   \n",
       "\n",
       "                                           amenities  square_feet   price  \\\n",
       "0  {TV,\"Cable TV\",Internet,\"Wireless Internet\",\"A...          NaN  $85.00   \n",
       "\n",
       "  weekly_price monthly_price security_deposit cleaning_fee  guests_included  \\\n",
       "0          NaN           NaN              NaN          NaN                2   \n",
       "\n",
       "  extra_people  minimum_nights  maximum_nights calendar_updated  \\\n",
       "0        $5.00               1             365      4 weeks ago   \n",
       "\n",
       "  has_availability  availability_30  availability_60  availability_90  \\\n",
       "0                t               14               41               71   \n",
       "\n",
       "   availability_365 calendar_last_scraped  number_of_reviews first_review  \\\n",
       "0               346            2016-01-04                207   2011-11-01   \n",
       "\n",
       "  last_review  review_scores_rating  review_scores_accuracy  \\\n",
       "0  2016-01-02                  95.0                    10.0   \n",
       "\n",
       "   review_scores_cleanliness  review_scores_checkin  \\\n",
       "0                       10.0                   10.0   \n",
       "\n",
       "   review_scores_communication  review_scores_location  review_scores_value  \\\n",
       "0                         10.0                     9.0                 10.0   \n",
       "\n",
       "  requires_license  license jurisdiction_names instant_bookable  \\\n",
       "0                f      NaN         WASHINGTON                f   \n",
       "\n",
       "  cancellation_policy require_guest_profile_picture  \\\n",
       "0            moderate                             f   \n",
       "\n",
       "  require_guest_phone_verification  calculated_host_listings_count  \\\n",
       "0                                f                               2   \n",
       "\n",
       "   reviews_per_month  \n",
       "0               4.07  "
      ]
     },
     "execution_count": 5,
     "metadata": {},
     "output_type": "execute_result"
    }
   ],
   "source": [
    "df_li.head(1)"
   ]
  },
  {
   "cell_type": "code",
   "execution_count": 6,
   "metadata": {},
   "outputs": [],
   "source": [
    "# Business questions:\n",
    "# 1. How seasonality (Spring, Summer, Fall, and Winter) impact availability.\n",
    "# 2. What's the correlation between listing details and room price. \n",
    "# 3. Can we predict and recommend room's price using the features analyzed in Question 2?"
   ]
  },
  {
   "cell_type": "markdown",
   "metadata": {},
   "source": [
    "## Does traveling season (Apr., Jul., and Dec.) impact listings' availability?"
   ]
  },
  {
   "cell_type": "code",
   "execution_count": 7,
   "metadata": {
    "scrolled": true
   },
   "outputs": [
    {
     "data": {
      "text/html": [
       "<div>\n",
       "<style scoped>\n",
       "    .dataframe tbody tr th:only-of-type {\n",
       "        vertical-align: middle;\n",
       "    }\n",
       "\n",
       "    .dataframe tbody tr th {\n",
       "        vertical-align: top;\n",
       "    }\n",
       "\n",
       "    .dataframe thead th {\n",
       "        text-align: right;\n",
       "    }\n",
       "</style>\n",
       "<table border=\"1\" class=\"dataframe\">\n",
       "  <thead>\n",
       "    <tr style=\"text-align: right;\">\n",
       "      <th></th>\n",
       "      <th>listing_id</th>\n",
       "      <th>date</th>\n",
       "      <th>available</th>\n",
       "      <th>price</th>\n",
       "    </tr>\n",
       "  </thead>\n",
       "  <tbody>\n",
       "    <tr>\n",
       "      <th>0</th>\n",
       "      <td>241032</td>\n",
       "      <td>2016-01-04</td>\n",
       "      <td>t</td>\n",
       "      <td>$85.00</td>\n",
       "    </tr>\n",
       "    <tr>\n",
       "      <th>1</th>\n",
       "      <td>241032</td>\n",
       "      <td>2016-01-05</td>\n",
       "      <td>t</td>\n",
       "      <td>$85.00</td>\n",
       "    </tr>\n",
       "    <tr>\n",
       "      <th>2</th>\n",
       "      <td>241032</td>\n",
       "      <td>2016-01-06</td>\n",
       "      <td>f</td>\n",
       "      <td>NaN</td>\n",
       "    </tr>\n",
       "    <tr>\n",
       "      <th>3</th>\n",
       "      <td>241032</td>\n",
       "      <td>2016-01-07</td>\n",
       "      <td>f</td>\n",
       "      <td>NaN</td>\n",
       "    </tr>\n",
       "    <tr>\n",
       "      <th>4</th>\n",
       "      <td>241032</td>\n",
       "      <td>2016-01-08</td>\n",
       "      <td>f</td>\n",
       "      <td>NaN</td>\n",
       "    </tr>\n",
       "  </tbody>\n",
       "</table>\n",
       "</div>"
      ],
      "text/plain": [
       "   listing_id        date available   price\n",
       "0      241032  2016-01-04         t  $85.00\n",
       "1      241032  2016-01-05         t  $85.00\n",
       "2      241032  2016-01-06         f     NaN\n",
       "3      241032  2016-01-07         f     NaN\n",
       "4      241032  2016-01-08         f     NaN"
      ]
     },
     "execution_count": 7,
     "metadata": {},
     "output_type": "execute_result"
    }
   ],
   "source": [
    "df_cal.head()"
   ]
  },
  {
   "cell_type": "code",
   "execution_count": 8,
   "metadata": {
    "scrolled": true
   },
   "outputs": [
    {
     "name": "stdout",
     "output_type": "stream",
     "text": [
      "<class 'pandas.core.frame.DataFrame'>\n",
      "RangeIndex: 1393570 entries, 0 to 1393569\n",
      "Data columns (total 4 columns):\n",
      " #   Column      Non-Null Count    Dtype \n",
      "---  ------      --------------    ----- \n",
      " 0   listing_id  1393570 non-null  int64 \n",
      " 1   date        1393570 non-null  object\n",
      " 2   available   1393570 non-null  object\n",
      " 3   price       934542 non-null   object\n",
      "dtypes: int64(1), object(3)\n",
      "memory usage: 42.5+ MB\n"
     ]
    }
   ],
   "source": [
    "# There in total 1393570 listing information collected\n",
    "df_cal.info()"
   ]
  },
  {
   "cell_type": "code",
   "execution_count": 9,
   "metadata": {},
   "outputs": [],
   "source": [
    "# Transform date in df_cal from object to date \n",
    "date_func = lambda x: datetime.strptime(x, '%Y-%m-%d')\n",
    "df_cal['datetime'] = df_cal['date'].apply(date_func)\n",
    "df_cal.drop(columns=['date'], inplace=True)\n",
    "df_cal = df_cal.rename(columns={'datetime': 'date'})"
   ]
  },
  {
   "cell_type": "code",
   "execution_count": 10,
   "metadata": {},
   "outputs": [
    {
     "data": {
      "text/html": [
       "<div>\n",
       "<style scoped>\n",
       "    .dataframe tbody tr th:only-of-type {\n",
       "        vertical-align: middle;\n",
       "    }\n",
       "\n",
       "    .dataframe tbody tr th {\n",
       "        vertical-align: top;\n",
       "    }\n",
       "\n",
       "    .dataframe thead th {\n",
       "        text-align: right;\n",
       "    }\n",
       "</style>\n",
       "<table border=\"1\" class=\"dataframe\">\n",
       "  <thead>\n",
       "    <tr style=\"text-align: right;\">\n",
       "      <th></th>\n",
       "      <th>listing_id</th>\n",
       "      <th>available</th>\n",
       "      <th>date</th>\n",
       "    </tr>\n",
       "  </thead>\n",
       "  <tbody>\n",
       "    <tr>\n",
       "      <th>0</th>\n",
       "      <td>241032</td>\n",
       "      <td>t</td>\n",
       "      <td>2016-01-04</td>\n",
       "    </tr>\n",
       "    <tr>\n",
       "      <th>1</th>\n",
       "      <td>241032</td>\n",
       "      <td>t</td>\n",
       "      <td>2016-01-05</td>\n",
       "    </tr>\n",
       "    <tr>\n",
       "      <th>2</th>\n",
       "      <td>241032</td>\n",
       "      <td>f</td>\n",
       "      <td>2016-01-06</td>\n",
       "    </tr>\n",
       "    <tr>\n",
       "      <th>3</th>\n",
       "      <td>241032</td>\n",
       "      <td>f</td>\n",
       "      <td>2016-01-07</td>\n",
       "    </tr>\n",
       "    <tr>\n",
       "      <th>4</th>\n",
       "      <td>241032</td>\n",
       "      <td>f</td>\n",
       "      <td>2016-01-08</td>\n",
       "    </tr>\n",
       "  </tbody>\n",
       "</table>\n",
       "</div>"
      ],
      "text/plain": [
       "   listing_id available       date\n",
       "0      241032         t 2016-01-04\n",
       "1      241032         t 2016-01-05\n",
       "2      241032         f 2016-01-06\n",
       "3      241032         f 2016-01-07\n",
       "4      241032         f 2016-01-08"
      ]
     },
     "execution_count": 10,
     "metadata": {},
     "output_type": "execute_result"
    }
   ],
   "source": [
    "# Create dataframe for season analysis \n",
    "df_se = df_cal[['listing_id', 'available', 'date']]\n",
    "df_se.head()"
   ]
  },
  {
   "cell_type": "code",
   "execution_count": 11,
   "metadata": {},
   "outputs": [
    {
     "data": {
      "text/plain": [
       "<AxesSubplot:xlabel='date'>"
      ]
     },
     "execution_count": 11,
     "metadata": {},
     "output_type": "execute_result"
    },
    {
     "data": {
      "image/png": "[encoded data removed]",
      "text/plain": [
       "<Figure size 432x288 with 1 Axes>"
      ]
     },
     "metadata": {
      "needs_background": "light"
     },
     "output_type": "display_data"
    }
   ],
   "source": [
    "# From this line chart, we can see that there seems to be a relationship between availability and date.\n",
    "# From Jan. to Apr., the availability of properties grow contineously. However, we see that in about Spring Break time\n",
    "# and summer time, the availibility dropped significantly. After summer time, the availibility continue to increase.\n",
    "# The issue we are facing is: 1. Does the number of listing grow triggered the increase in availibility?\n",
    "# 2. If we put this chart in month, what the data looks like?\n",
    "df_sef = df_se[df_se['available'] == 't']\n",
    "df_sef[['available', 'date']].groupby('date').count().plot()"
   ]
  },
  {
   "cell_type": "code",
   "execution_count": 12,
   "metadata": {},
   "outputs": [
    {
     "data": {
      "text/html": [
       "<div>\n",
       "<style scoped>\n",
       "    .dataframe tbody tr th:only-of-type {\n",
       "        vertical-align: middle;\n",
       "    }\n",
       "\n",
       "    .dataframe tbody tr th {\n",
       "        vertical-align: top;\n",
       "    }\n",
       "\n",
       "    .dataframe thead th {\n",
       "        text-align: right;\n",
       "    }\n",
       "</style>\n",
       "<table border=\"1\" class=\"dataframe\">\n",
       "  <thead>\n",
       "    <tr style=\"text-align: right;\">\n",
       "      <th></th>\n",
       "      <th>listing_id</th>\n",
       "      <th>available</th>\n",
       "      <th>date</th>\n",
       "      <th>week</th>\n",
       "      <th>month</th>\n",
       "    </tr>\n",
       "  </thead>\n",
       "  <tbody>\n",
       "    <tr>\n",
       "      <th>0</th>\n",
       "      <td>241032</td>\n",
       "      <td>t</td>\n",
       "      <td>2016-01-04</td>\n",
       "      <td>1</td>\n",
       "      <td>1</td>\n",
       "    </tr>\n",
       "    <tr>\n",
       "      <th>1</th>\n",
       "      <td>241032</td>\n",
       "      <td>t</td>\n",
       "      <td>2016-01-05</td>\n",
       "      <td>1</td>\n",
       "      <td>1</td>\n",
       "    </tr>\n",
       "    <tr>\n",
       "      <th>2</th>\n",
       "      <td>241032</td>\n",
       "      <td>f</td>\n",
       "      <td>2016-01-06</td>\n",
       "      <td>1</td>\n",
       "      <td>1</td>\n",
       "    </tr>\n",
       "    <tr>\n",
       "      <th>3</th>\n",
       "      <td>241032</td>\n",
       "      <td>f</td>\n",
       "      <td>2016-01-07</td>\n",
       "      <td>1</td>\n",
       "      <td>1</td>\n",
       "    </tr>\n",
       "    <tr>\n",
       "      <th>4</th>\n",
       "      <td>241032</td>\n",
       "      <td>f</td>\n",
       "      <td>2016-01-08</td>\n",
       "      <td>1</td>\n",
       "      <td>1</td>\n",
       "    </tr>\n",
       "  </tbody>\n",
       "</table>\n",
       "</div>"
      ],
      "text/plain": [
       "   listing_id available       date  week  month\n",
       "0      241032         t 2016-01-04     1      1\n",
       "1      241032         t 2016-01-05     1      1\n",
       "2      241032         f 2016-01-06     1      1\n",
       "3      241032         f 2016-01-07     1      1\n",
       "4      241032         f 2016-01-08     1      1"
      ]
     },
     "execution_count": 12,
     "metadata": {},
     "output_type": "execute_result"
    }
   ],
   "source": [
    "# Does number of listing grow over time?\n",
    "# Remove the tail of the data in 2017 in order to better understand seasonal impact\n",
    "df_se = df_se[df_se['date'] <= '2016-12-31']\n",
    "\n",
    "# Transform date to week and month \n",
    "df_se['week'] = df_se['date'].dt.isocalendar().week\n",
    "df_se['month'] = df_se['date'].dt.month\n",
    "\n",
    "df_se.head()"
   ]
  },
  {
   "cell_type": "code",
   "execution_count": 30,
   "metadata": {},
   "outputs": [
    {
     "data": {
      "text/plain": [
       "3818"
      ]
     },
     "execution_count": 30,
     "metadata": {},
     "output_type": "execute_result"
    }
   ],
   "source": [
    "df_se['listing_id'].nunique()"
   ]
  },
  {
   "cell_type": "code",
   "execution_count": 13,
   "metadata": {},
   "outputs": [
    {
     "data": {
      "text/plain": [
       "<AxesSubplot:xlabel='week'>"
      ]
     },
     "execution_count": 13,
     "metadata": {},
     "output_type": "execute_result"
    },
    {
     "data": {
      "image/png": "[encoded data removed]",
      "text/plain": [
       "<Figure size 432x288 with 1 Axes>"
      ]
     },
     "metadata": {
      "needs_background": "light"
     },
     "output_type": "display_data"
    }
   ],
   "source": [
    "# From this, we can see that the listing is not growing by week.\n",
    "df_se[['listing_id', 'week']].groupby('week').count().plot()"
   ]
  },
  {
   "cell_type": "code",
   "execution_count": 14,
   "metadata": {},
   "outputs": [
    {
     "data": {
      "text/plain": [
       "Text(0.5, 1.0, 'Listing Availablility by Month')"
      ]
     },
     "execution_count": 14,
     "metadata": {},
     "output_type": "execute_result"
    },
    {
     "data": {
      "image/png": "[encoded data removed]",
      "text/plain": [
       "<Figure size 432x288 with 1 Axes>"
      ]
     },
     "metadata": {
      "needs_background": "light"
     },
     "output_type": "display_data"
    },
    {
     "data": {
      "image/png": "[encoded data removed]",
      "text/plain": [
       "<Figure size 432x288 with 1 Axes>"
      ]
     },
     "metadata": {
      "needs_background": "light"
     },
     "output_type": "display_data"
    }
   ],
   "source": [
    "# Plot in month and week \n",
    "\n",
    "df_se[df_se['available'] == 't'][['week', 'available']].groupby('week').count().plot()\n",
    "plt.title('Listing Availablility by Week')\n",
    "\n",
    "df_se[df_se['available'] == 't'][['month', 'available']].groupby('month').count().plot()\n",
    "plt.title('Listing Availablility by Month')"
   ]
  },
  {
   "cell_type": "markdown",
   "metadata": {},
   "source": [
    "## Is there any correlation between price and property's listing details (beds, etc)?"
   ]
  },
  {
   "cell_type": "code",
   "execution_count": 15,
   "metadata": {},
   "outputs": [
    {
     "data": {
      "text/html": [
       "<div>\n",
       "<style scoped>\n",
       "    .dataframe tbody tr th:only-of-type {\n",
       "        vertical-align: middle;\n",
       "    }\n",
       "\n",
       "    .dataframe tbody tr th {\n",
       "        vertical-align: top;\n",
       "    }\n",
       "\n",
       "    .dataframe thead th {\n",
       "        text-align: right;\n",
       "    }\n",
       "</style>\n",
       "<table border=\"1\" class=\"dataframe\">\n",
       "  <thead>\n",
       "    <tr style=\"text-align: right;\">\n",
       "      <th></th>\n",
       "      <th>id</th>\n",
       "      <th>neighbourhood_group_cleansed</th>\n",
       "      <th>property_type</th>\n",
       "      <th>room_type</th>\n",
       "      <th>accommodates</th>\n",
       "      <th>bathrooms</th>\n",
       "      <th>beds</th>\n",
       "      <th>bed_type</th>\n",
       "      <th>cancellation_policy</th>\n",
       "      <th>host_is_superhost</th>\n",
       "      <th>review_scores_rating</th>\n",
       "    </tr>\n",
       "  </thead>\n",
       "  <tbody>\n",
       "    <tr>\n",
       "      <th>0</th>\n",
       "      <td>241032</td>\n",
       "      <td>Queen Anne</td>\n",
       "      <td>Apartment</td>\n",
       "      <td>Entire home/apt</td>\n",
       "      <td>4</td>\n",
       "      <td>1.0</td>\n",
       "      <td>1.0</td>\n",
       "      <td>Real Bed</td>\n",
       "      <td>moderate</td>\n",
       "      <td>f</td>\n",
       "      <td>95.0</td>\n",
       "    </tr>\n",
       "  </tbody>\n",
       "</table>\n",
       "</div>"
      ],
      "text/plain": [
       "       id neighbourhood_group_cleansed property_type        room_type  \\\n",
       "0  241032                   Queen Anne     Apartment  Entire home/apt   \n",
       "\n",
       "   accommodates  bathrooms  beds  bed_type cancellation_policy  \\\n",
       "0             4        1.0   1.0  Real Bed            moderate   \n",
       "\n",
       "  host_is_superhost  review_scores_rating  \n",
       "0                 f                  95.0  "
      ]
     },
     "execution_count": 15,
     "metadata": {},
     "output_type": "execute_result"
    }
   ],
   "source": [
    "# Select columns are most direct listing details\n",
    "li_cols = ['id', 'neighbourhood_group_cleansed', 'property_type', 'room_type', \n",
    "           'accommodates', 'bathrooms','beds', 'bed_type', 'cancellation_policy', \n",
    "           'host_is_superhost', 'review_scores_rating']\n",
    "\n",
    "df_lid = df_li[li_cols]\n",
    "df_lid.head(1)"
   ]
  },
  {
   "cell_type": "code",
   "execution_count": 16,
   "metadata": {},
   "outputs": [],
   "source": [
    "# Select columns in the calendar field to get average price for listing\n",
    "df_cal_f = df_cal[df_cal['available'] == 't']\n",
    "df_cal_f = df_cal_f[['listing_id', 'price']]\n",
    "\n",
    "# Set the Price column to float \n",
    "df_cal_f['price_adj'] = df_cal_f['price'].str.replace(r'\\,', '').str.replace(r'\\$', '')\n",
    "df_cal_f['price'] = df_cal_f['price_adj'].astype({'price_adj':'float'})\n",
    "df_cal_f.drop(columns=['price_adj'], inplace=True)\n",
    "\n",
    "df_cal_fg = df_cal_f.groupby('listing_id').mean().round(2)\n",
    "df_cal_fg.reset_index(inplace=True)"
   ]
  },
  {
   "cell_type": "code",
   "execution_count": 17,
   "metadata": {},
   "outputs": [
    {
     "data": {
      "text/plain": [
       "3723"
      ]
     },
     "execution_count": 17,
     "metadata": {},
     "output_type": "execute_result"
    }
   ],
   "source": [
    "# Join listing with price \n",
    "df_j = df_cal_fg.merge(df_lid, left_on='listing_id', right_on='id', how='left')\n",
    "df_j.shape[0]"
   ]
  },
  {
   "cell_type": "code",
   "execution_count": 18,
   "metadata": {},
   "outputs": [
    {
     "data": {
      "text/html": [
       "<div>\n",
       "<style scoped>\n",
       "    .dataframe tbody tr th:only-of-type {\n",
       "        vertical-align: middle;\n",
       "    }\n",
       "\n",
       "    .dataframe tbody tr th {\n",
       "        vertical-align: top;\n",
       "    }\n",
       "\n",
       "    .dataframe thead th {\n",
       "        text-align: right;\n",
       "    }\n",
       "</style>\n",
       "<table border=\"1\" class=\"dataframe\">\n",
       "  <thead>\n",
       "    <tr style=\"text-align: right;\">\n",
       "      <th></th>\n",
       "      <th>listing_id</th>\n",
       "      <th>price</th>\n",
       "      <th>id</th>\n",
       "      <th>neighbourhood_group_cleansed</th>\n",
       "      <th>property_type</th>\n",
       "      <th>room_type</th>\n",
       "      <th>accommodates</th>\n",
       "      <th>bathrooms</th>\n",
       "      <th>beds</th>\n",
       "      <th>bed_type</th>\n",
       "      <th>cancellation_policy</th>\n",
       "      <th>host_is_superhost</th>\n",
       "      <th>review_scores_rating</th>\n",
       "    </tr>\n",
       "  </thead>\n",
       "  <tbody>\n",
       "    <tr>\n",
       "      <th>0</th>\n",
       "      <td>3335</td>\n",
       "      <td>120.00</td>\n",
       "      <td>3335</td>\n",
       "      <td>Rainier Valley</td>\n",
       "      <td>NaN</td>\n",
       "      <td>Entire home/apt</td>\n",
       "      <td>4</td>\n",
       "      <td>1.0</td>\n",
       "      <td>2.0</td>\n",
       "      <td>Real Bed</td>\n",
       "      <td>strict</td>\n",
       "      <td>f</td>\n",
       "      <td>NaN</td>\n",
       "    </tr>\n",
       "    <tr>\n",
       "      <th>1</th>\n",
       "      <td>4291</td>\n",
       "      <td>82.00</td>\n",
       "      <td>4291</td>\n",
       "      <td>Other neighborhoods</td>\n",
       "      <td>House</td>\n",
       "      <td>Private room</td>\n",
       "      <td>2</td>\n",
       "      <td>1.0</td>\n",
       "      <td>1.0</td>\n",
       "      <td>Real Bed</td>\n",
       "      <td>moderate</td>\n",
       "      <td>f</td>\n",
       "      <td>92.0</td>\n",
       "    </tr>\n",
       "    <tr>\n",
       "      <th>2</th>\n",
       "      <td>5682</td>\n",
       "      <td>53.94</td>\n",
       "      <td>5682</td>\n",
       "      <td>Delridge</td>\n",
       "      <td>Apartment</td>\n",
       "      <td>Entire home/apt</td>\n",
       "      <td>2</td>\n",
       "      <td>1.0</td>\n",
       "      <td>1.0</td>\n",
       "      <td>Real Bed</td>\n",
       "      <td>strict</td>\n",
       "      <td>f</td>\n",
       "      <td>96.0</td>\n",
       "    </tr>\n",
       "    <tr>\n",
       "      <th>3</th>\n",
       "      <td>6606</td>\n",
       "      <td>92.85</td>\n",
       "      <td>6606</td>\n",
       "      <td>Other neighborhoods</td>\n",
       "      <td>Apartment</td>\n",
       "      <td>Entire home/apt</td>\n",
       "      <td>2</td>\n",
       "      <td>1.0</td>\n",
       "      <td>1.0</td>\n",
       "      <td>Real Bed</td>\n",
       "      <td>strict</td>\n",
       "      <td>f</td>\n",
       "      <td>93.0</td>\n",
       "    </tr>\n",
       "    <tr>\n",
       "      <th>4</th>\n",
       "      <td>7369</td>\n",
       "      <td>85.00</td>\n",
       "      <td>7369</td>\n",
       "      <td>Capitol Hill</td>\n",
       "      <td>Condominium</td>\n",
       "      <td>Entire home/apt</td>\n",
       "      <td>2</td>\n",
       "      <td>1.0</td>\n",
       "      <td>1.0</td>\n",
       "      <td>Real Bed</td>\n",
       "      <td>flexible</td>\n",
       "      <td>f</td>\n",
       "      <td>94.0</td>\n",
       "    </tr>\n",
       "  </tbody>\n",
       "</table>\n",
       "</div>"
      ],
      "text/plain": [
       "   listing_id   price    id neighbourhood_group_cleansed property_type  \\\n",
       "0        3335  120.00  3335               Rainier Valley           NaN   \n",
       "1        4291   82.00  4291          Other neighborhoods         House   \n",
       "2        5682   53.94  5682                     Delridge     Apartment   \n",
       "3        6606   92.85  6606          Other neighborhoods     Apartment   \n",
       "4        7369   85.00  7369                 Capitol Hill   Condominium   \n",
       "\n",
       "         room_type  accommodates  bathrooms  beds  bed_type  \\\n",
       "0  Entire home/apt             4        1.0   2.0  Real Bed   \n",
       "1     Private room             2        1.0   1.0  Real Bed   \n",
       "2  Entire home/apt             2        1.0   1.0  Real Bed   \n",
       "3  Entire home/apt             2        1.0   1.0  Real Bed   \n",
       "4  Entire home/apt             2        1.0   1.0  Real Bed   \n",
       "\n",
       "  cancellation_policy host_is_superhost  review_scores_rating  \n",
       "0              strict                 f                   NaN  \n",
       "1            moderate                 f                  92.0  \n",
       "2              strict                 f                  96.0  \n",
       "3              strict                 f                  93.0  \n",
       "4            flexible                 f                  94.0  "
      ]
     },
     "execution_count": 18,
     "metadata": {},
     "output_type": "execute_result"
    }
   ],
   "source": [
    "df_j.head()"
   ]
  },
  {
   "cell_type": "code",
   "execution_count": 19,
   "metadata": {
    "scrolled": true
   },
   "outputs": [
    {
     "data": {
      "text/plain": [
       "count    3723.000000\n",
       "mean      135.764037\n",
       "std        97.385691\n",
       "min        20.000000\n",
       "25%        75.630000\n",
       "50%       108.420000\n",
       "75%       162.100000\n",
       "max      1301.820000\n",
       "Name: price, dtype: float64"
      ]
     },
     "execution_count": 19,
     "metadata": {},
     "output_type": "execute_result"
    },
    {
     "data": {
      "image/png": "[encoded data removed]",
      "text/plain": [
       "<Figure size 432x288 with 1 Axes>"
      ]
     },
     "metadata": {
      "needs_background": "light"
     },
     "output_type": "display_data"
    }
   ],
   "source": [
    "# understand price distribution\n",
    "df_j['price'].hist()\n",
    "df_j['price'].describe()"
   ]
  },
  {
   "cell_type": "code",
   "execution_count": 20,
   "metadata": {},
   "outputs": [
    {
     "data": {
      "text/plain": [
       "3089"
      ]
     },
     "execution_count": 20,
     "metadata": {},
     "output_type": "execute_result"
    }
   ],
   "source": [
    "# Drop 17 rows that has NaN data \n",
    "df_j = df_j.dropna()\n",
    "df_j.shape[0]"
   ]
  },
  {
   "cell_type": "code",
   "execution_count": 21,
   "metadata": {
    "scrolled": true
   },
   "outputs": [
    {
     "data": {
      "text/plain": [
       "listing_id                        int64\n",
       "price                           float64\n",
       "id                                int64\n",
       "neighbourhood_group_cleansed     object\n",
       "property_type                    object\n",
       "room_type                        object\n",
       "accommodates                      int64\n",
       "bathrooms                       float64\n",
       "beds                            float64\n",
       "bed_type                         object\n",
       "cancellation_policy              object\n",
       "host_is_superhost                object\n",
       "review_scores_rating            float64\n",
       "dtype: object"
      ]
     },
     "execution_count": 21,
     "metadata": {},
     "output_type": "execute_result"
    }
   ],
   "source": [
    "df_j.dtypes"
   ]
  },
  {
   "cell_type": "code",
   "execution_count": 22,
   "metadata": {},
   "outputs": [],
   "source": [
    "# Instantiate numeric encoder preprocessing method\n",
    "labelencoder = LabelEncoder()\n",
    "\n",
    "# Create function to transform categorical data to dummies and keep continues data \n",
    "def corr(df):\n",
    "    '''\n",
    "    Input \n",
    "    df - pandas dataframe \n",
    "    \n",
    "    Output\n",
    "    Return\n",
    "    \n",
    "    '''\n",
    "    # drop ID column not used for correlation\n",
    "    df = df.drop(columns=['listing_id', 'id'])\n",
    "\n",
    "    # num_vars contains all continues revenue \n",
    "    num_vars = df.select_dtypes(include=['float', 'int'])\n",
    "    cat_vars = df.select_dtypes(include=['object'])\n",
    "    \n",
    "    # encode categorical variables to numerical code for correlation analysis\n",
    "    cat_vars = cat_vars.apply(labelencoder.fit_transform)\n",
    "\n",
    "    df_c = pd.DataFrame(pd.concat([num_vars, cat_vars], axis=1)) \n",
    "    \n",
    "    # generate heatmap to show correlation\n",
    "    size = (8, 7)\n",
    "    fig, ax = plt.subplots(figsize=size)\n",
    "    sns.heatmap(df_c.corr(), annot=True).set_title('Correlation heatmap: Price vs Listing Details')"
   ]
  },
  {
   "cell_type": "code",
   "execution_count": 23,
   "metadata": {
    "scrolled": false
   },
   "outputs": [
    {
     "data": {
      "image/png": "[encoded data removed]",
      "text/plain": [
       "<Figure size 576x504 with 2 Axes>"
      ]
     },
     "metadata": {
      "needs_background": "light"
     },
     "output_type": "display_data"
    }
   ],
   "source": [
    "corr(df_j)"
   ]
  },
  {
   "cell_type": "markdown",
   "metadata": {},
   "source": [
    "Business Question\n",
    "Is there a correlation between price and the property's listing details (beds, etc)?\n",
    "\n",
    "Findings\n",
    "1. Price has high positive correlation with accomodates (0.7), beds (0.63), and bathroom (0.54). \n",
    "From this positive correlation, we can identify the key factors influencing price. The more accomodates, beds, and bathroom the host provides, the higher price they can list on Boston Airbnb's market.\n",
    "\n",
    "2. Price has negative correlation with room type (-0.45). \n",
    "Although we can see that there are correlation between price and listing details, we can't see the detailed information of those listing. For instance, if i'd like improve my price on the listing, I don't know which room type I should use for the listing. \n",
    "\n",
    "3. Review scores rating (0.065) and neightbourhood (0.016) do not have strong correlation with price, which is suprising. "
   ]
  },
  {
   "cell_type": "markdown",
   "metadata": {},
   "source": [
    "## Can we create a prediction model for listing price in Seattle Area using the listing details analyzed in question 2?"
   ]
  },
  {
   "cell_type": "code",
   "execution_count": 24,
   "metadata": {},
   "outputs": [
    {
     "data": {
      "text/html": [
       "<div>\n",
       "<style scoped>\n",
       "    .dataframe tbody tr th:only-of-type {\n",
       "        vertical-align: middle;\n",
       "    }\n",
       "\n",
       "    .dataframe tbody tr th {\n",
       "        vertical-align: top;\n",
       "    }\n",
       "\n",
       "    .dataframe thead th {\n",
       "        text-align: right;\n",
       "    }\n",
       "</style>\n",
       "<table border=\"1\" class=\"dataframe\">\n",
       "  <thead>\n",
       "    <tr style=\"text-align: right;\">\n",
       "      <th></th>\n",
       "      <th>listing_id</th>\n",
       "      <th>price</th>\n",
       "      <th>id</th>\n",
       "      <th>neighbourhood_group_cleansed</th>\n",
       "      <th>property_type</th>\n",
       "      <th>room_type</th>\n",
       "      <th>accommodates</th>\n",
       "      <th>bathrooms</th>\n",
       "      <th>beds</th>\n",
       "      <th>bed_type</th>\n",
       "      <th>cancellation_policy</th>\n",
       "      <th>host_is_superhost</th>\n",
       "      <th>review_scores_rating</th>\n",
       "    </tr>\n",
       "  </thead>\n",
       "  <tbody>\n",
       "    <tr>\n",
       "      <th>1</th>\n",
       "      <td>4291</td>\n",
       "      <td>82.00</td>\n",
       "      <td>4291</td>\n",
       "      <td>Other neighborhoods</td>\n",
       "      <td>House</td>\n",
       "      <td>Private room</td>\n",
       "      <td>2</td>\n",
       "      <td>1.0</td>\n",
       "      <td>1.0</td>\n",
       "      <td>Real Bed</td>\n",
       "      <td>moderate</td>\n",
       "      <td>f</td>\n",
       "      <td>92.0</td>\n",
       "    </tr>\n",
       "    <tr>\n",
       "      <th>2</th>\n",
       "      <td>5682</td>\n",
       "      <td>53.94</td>\n",
       "      <td>5682</td>\n",
       "      <td>Delridge</td>\n",
       "      <td>Apartment</td>\n",
       "      <td>Entire home/apt</td>\n",
       "      <td>2</td>\n",
       "      <td>1.0</td>\n",
       "      <td>1.0</td>\n",
       "      <td>Real Bed</td>\n",
       "      <td>strict</td>\n",
       "      <td>f</td>\n",
       "      <td>96.0</td>\n",
       "    </tr>\n",
       "    <tr>\n",
       "      <th>3</th>\n",
       "      <td>6606</td>\n",
       "      <td>92.85</td>\n",
       "      <td>6606</td>\n",
       "      <td>Other neighborhoods</td>\n",
       "      <td>Apartment</td>\n",
       "      <td>Entire home/apt</td>\n",
       "      <td>2</td>\n",
       "      <td>1.0</td>\n",
       "      <td>1.0</td>\n",
       "      <td>Real Bed</td>\n",
       "      <td>strict</td>\n",
       "      <td>f</td>\n",
       "      <td>93.0</td>\n",
       "    </tr>\n",
       "    <tr>\n",
       "      <th>4</th>\n",
       "      <td>7369</td>\n",
       "      <td>85.00</td>\n",
       "      <td>7369</td>\n",
       "      <td>Capitol Hill</td>\n",
       "      <td>Condominium</td>\n",
       "      <td>Entire home/apt</td>\n",
       "      <td>2</td>\n",
       "      <td>1.0</td>\n",
       "      <td>1.0</td>\n",
       "      <td>Real Bed</td>\n",
       "      <td>flexible</td>\n",
       "      <td>f</td>\n",
       "      <td>94.0</td>\n",
       "    </tr>\n",
       "    <tr>\n",
       "      <th>5</th>\n",
       "      <td>9419</td>\n",
       "      <td>85.62</td>\n",
       "      <td>9419</td>\n",
       "      <td>Other neighborhoods</td>\n",
       "      <td>House</td>\n",
       "      <td>Private room</td>\n",
       "      <td>2</td>\n",
       "      <td>3.0</td>\n",
       "      <td>1.0</td>\n",
       "      <td>Real Bed</td>\n",
       "      <td>strict</td>\n",
       "      <td>f</td>\n",
       "      <td>91.0</td>\n",
       "    </tr>\n",
       "  </tbody>\n",
       "</table>\n",
       "</div>"
      ],
      "text/plain": [
       "   listing_id  price    id neighbourhood_group_cleansed property_type  \\\n",
       "1        4291  82.00  4291          Other neighborhoods         House   \n",
       "2        5682  53.94  5682                     Delridge     Apartment   \n",
       "3        6606  92.85  6606          Other neighborhoods     Apartment   \n",
       "4        7369  85.00  7369                 Capitol Hill   Condominium   \n",
       "5        9419  85.62  9419          Other neighborhoods         House   \n",
       "\n",
       "         room_type  accommodates  bathrooms  beds  bed_type  \\\n",
       "1     Private room             2        1.0   1.0  Real Bed   \n",
       "2  Entire home/apt             2        1.0   1.0  Real Bed   \n",
       "3  Entire home/apt             2        1.0   1.0  Real Bed   \n",
       "4  Entire home/apt             2        1.0   1.0  Real Bed   \n",
       "5     Private room             2        3.0   1.0  Real Bed   \n",
       "\n",
       "  cancellation_policy host_is_superhost  review_scores_rating  \n",
       "1            moderate                 f                  92.0  \n",
       "2              strict                 f                  96.0  \n",
       "3              strict                 f                  93.0  \n",
       "4            flexible                 f                  94.0  \n",
       "5              strict                 f                  91.0  "
      ]
     },
     "execution_count": 24,
     "metadata": {},
     "output_type": "execute_result"
    }
   ],
   "source": [
    "df_j.head()"
   ]
  },
  {
   "cell_type": "code",
   "execution_count": 25,
   "metadata": {
    "scrolled": true
   },
   "outputs": [
    {
     "name": "stdout",
     "output_type": "stream",
     "text": [
      "<class 'pandas.core.frame.DataFrame'>\n",
      "Int64Index: 3089 entries, 1 to 3698\n",
      "Data columns (total 13 columns):\n",
      " #   Column                        Non-Null Count  Dtype  \n",
      "---  ------                        --------------  -----  \n",
      " 0   listing_id                    3089 non-null   int64  \n",
      " 1   price                         3089 non-null   float64\n",
      " 2   id                            3089 non-null   int64  \n",
      " 3   neighbourhood_group_cleansed  3089 non-null   object \n",
      " 4   property_type                 3089 non-null   object \n",
      " 5   room_type                     3089 non-null   object \n",
      " 6   accommodates                  3089 non-null   int64  \n",
      " 7   bathrooms                     3089 non-null   float64\n",
      " 8   beds                          3089 non-null   float64\n",
      " 9   bed_type                      3089 non-null   object \n",
      " 10  cancellation_policy           3089 non-null   object \n",
      " 11  host_is_superhost             3089 non-null   object \n",
      " 12  review_scores_rating          3089 non-null   float64\n",
      "dtypes: float64(4), int64(3), object(6)\n",
      "memory usage: 337.9+ KB\n"
     ]
    }
   ],
   "source": [
    "df_j.info()"
   ]
  },
  {
   "cell_type": "code",
   "execution_count": 26,
   "metadata": {},
   "outputs": [],
   "source": [
    "# Drop ID columns \n",
    "df_j.drop(columns=['listing_id', 'id'], axis=1, inplace=True)"
   ]
  },
  {
   "cell_type": "code",
   "execution_count": 27,
   "metadata": {},
   "outputs": [],
   "source": [
    "# Apply get dummies on the same features to predict price of listings.\n",
    "\n",
    "def data_clean(df):\n",
    "    '''\n",
    "    Input\n",
    "    df: contains all independent and dependent variables.\n",
    "\n",
    "    Output\n",
    "    X: cleaned set of features used as independent variabiles\n",
    "    y: cleaned feature as dependent variable\n",
    "    \n",
    "    '''\n",
    "    \n",
    "\n",
    "    # Create dependent variable \n",
    "    y = df['price']\n",
    "    \n",
    "    # Create indenpendent variable set \n",
    "    X = df.drop(columns=['price'])\n",
    "    \n",
    "    # Break down X into number contineous and categorical variables\n",
    "    num_var = X.select_dtypes(include=['float', 'int'])\n",
    "    cat_var = X.select_dtypes(include=['object'])\n",
    "    \n",
    "    cat_var = pd.get_dummies(cat_var, prefix=cat_var.columns, prefix_sep='_', drop_first=True)\n",
    "    \n",
    "    # Combine contineous and categorical variabiles into indenpendent variable dataset\n",
    "    X = pd.concat([num_var, cat_var], axis = 1)\n",
    "    \n",
    "    # return X, y\n",
    "    return X, y\n",
    "\n",
    "X, y = data_clean(df_j)"
   ]
  },
  {
   "cell_type": "code",
   "execution_count": 28,
   "metadata": {},
   "outputs": [],
   "source": [
    "# Modeling\n",
    "def mod(X, y):\n",
    "    '''\n",
    "    Input\n",
    "    X: Dependent Variables \n",
    "    y: Independent Variables\n",
    "    \n",
    "    Output: \n",
    "    Model Accuracy: r-square, mean squared error \n",
    "    \n",
    "    Description:\n",
    "    Apply linear regression on the Training and Testing data to create a predict model for price.\n",
    "    '''\n",
    "    \n",
    "    # Instatiate model \n",
    "    linearmodel = LinearRegression()\n",
    "    # Split dataset \n",
    "    X_train, X_test, y_train, y_test = train_test_split(X, y, test_size=0.3, random_state=46)\n",
    "    # Fit dataset \n",
    "    linearmodel.fit(X_train, y_train)\n",
    "    \n",
    "    # Create prediction \n",
    "    y_pred = linearmodel.predict(X_test)\n",
    "    \n",
    "    print(r2_score(y_test, y_pred))\n",
    "    print(mean_squared_error(y_test, y_pred))\n",
    "    "
   ]
  },
  {
   "cell_type": "code",
   "execution_count": 29,
   "metadata": {},
   "outputs": [
    {
     "name": "stdout",
     "output_type": "stream",
     "text": [
      "0.6114366004085157\n",
      "3326.9714861379275\n"
     ]
    }
   ],
   "source": [
    "mod(X, y)"
   ]
  }
 ],
 "metadata": {
  "kernelspec": {
   "display_name": "Python 3",
   "language": "python",
   "name": "python3"
  },
  "language_info": {
   "codemirror_mode": {
    "name": "ipython",
    "version": 3
   },
   "file_extension": ".py",
   "mimetype": "text/x-python",
   "name": "python",
   "nbconvert_exporter": "python",
   "pygments_lexer": "ipython3",
   "version": "3.8.5"
  }
 },
 "nbformat": 4,
 "nbformat_minor": 2
}
